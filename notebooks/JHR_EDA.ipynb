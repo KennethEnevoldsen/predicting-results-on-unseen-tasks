{
 "cells": [
  {
   "cell_type": "code",
   "execution_count": 1,
   "metadata": {},
   "outputs": [],
   "source": [
    "import seaborn as sns\n",
    "import matplotlib.pyplot as plt\n",
    "import polars as pl\n",
    "\n",
    "import predicting_unseen_tasks.directories as dirs\n",
    "\n",
    "\n",
    "DATA_DIR = dirs.get_data_dir()\n",
    "mteb = pl.read_parquet(DATA_DIR / \"mteb_data.parquet\")"
   ]
  },
  {
   "cell_type": "code",
   "execution_count": 2,
   "metadata": {},
   "outputs": [],
   "source": [
    "single_language = (\n",
    "    mteb.with_columns(\n",
    "        pl.col(\"languages\").list.first().alias(\"language\"),\n",
    "        pl.col(\"languages\").list.len().alias(\"num_languages\"),\n",
    "    )\n",
    "    .filter(pl.col(\"num_languages\") == 1)\n",
    "    .drop(\"languages\")\n",
    ")\n",
    "example_model = single_language.with_columns(\n",
    "    pl.col(\"model_name\").first().alias(\"first_model\")\n",
    ").filter(pl.col(\"first_model\") == pl.col(\"model_name\"))"
   ]
  },
  {
   "cell_type": "markdown",
   "metadata": {
    "vscode": {
     "languageId": "sql"
    }
   },
   "source": [
    "## Hypotheses to test\n",
    "One potential research question would be something vaguely like \"Does domain knowledge transfer across languages?\". The idea here would be to investigate composability of capabilities in a fairly constrained way. Specifically, we want to investigate whether domain knowledge is language independent.\n",
    "\n",
    "My feeling is that this would be most rigorously answered with a LMER model with `model_name` as a random effect. However, a \"simpler\" way would be to look at the correlation between tasks in the same domain but in different languages. I'll try below for the example_model."
   ]
  },
  {
   "cell_type": "code",
   "execution_count": 3,
   "metadata": {},
   "outputs": [],
   "source": [
    "def iou(col1: str, col2: str) -> pl.Expr:\n",
    "    return (\n",
    "        pl.col(col1).list.set_intersection(pl.col(col2)).list.len()\n",
    "        / pl.col(col1).list.set_union(pl.col(col2)).list.len()\n",
    "    ).alias(\"overlap\")\n",
    "\n",
    "\n",
    "boring_categories = [\"Written\", \"Spoken\", \"Non-fiction\"]\n",
    "tasks = (\n",
    "    single_language.select(\"task\", \"domains\")\n",
    "    .with_columns(pl.col(\"domains\").list.set_difference(boring_categories))\n",
    "    .unique(\"task\")\n",
    "    .with_columns(pl.lit(1).alias(\"value\"))\n",
    "    .drop_nulls()\n",
    "    .filter(pl.col(\"domains\").list.len() > 0)\n",
    ")\n",
    "overlap = (\n",
    "    tasks.join(tasks, on=\"value\")\n",
    "    .with_columns(iou(\"domains\", \"domains_right\"))\n",
    "    .select([\"task\", \"task_right\", \"overlap\"])\n",
    "    .cast({pl.selectors.string(): pl.Categorical})\n",
    ")"
   ]
  },
  {
   "cell_type": "code",
   "execution_count": 4,
   "metadata": {},
   "outputs": [],
   "source": [
    "def calculate_model_corr_diff(domain_data: pl.DataFrame) -> float:\n",
    "    assert domain_data[\"model_name\"].n_unique() == 1, \"Data must be from a single model\"\n",
    "    return (\n",
    "        domain_data.join(domain_data, on=\"domains\")\n",
    "        .filter(pl.col(\"language\") != pl.col(\"language_right\"))\n",
    "        .select(\"performance\", \"performance_right\")\n",
    "        .corr()[\"performance\"][1]\n",
    "    )\n",
    "\n",
    "\n",
    "def calculate_model_corr_same(domain_data: pl.DataFrame) -> float:\n",
    "    assert domain_data[\"model_name\"].n_unique() == 1, \"Data must be from a single model\"\n",
    "    return (\n",
    "        domain_data.join(domain_data, on=\"domains\")\n",
    "        .filter(pl.col(\"language\") == pl.col(\"language_right\"))\n",
    "        .filter(pl.col(\"task\") != pl.col(\"task_right\"))\n",
    "        .select(\"performance\", \"performance_right\")\n",
    "        .corr()[\"performance\"][1]\n",
    "    )\n",
    "\n",
    "\n",
    "join_data = single_language.cast({pl.selectors.string(): pl.Categorical}).drop(\n",
    "    \"model_name\", \"subset\", \"split\", \"num_languages\", \"domains\"\n",
    ")\n",
    "prediction_data = (\n",
    "    join_data.join(join_data, on=[\"revision\", \"task_type\", \"main_score_name\"])\n",
    "    .filter(pl.col(\"task\") != pl.col(\"task_right\"))\n",
    "    .with_columns(\n",
    "        (pl.col(\"language\") == pl.col(\"language_right\")).alias(\"same_language\")\n",
    "    )\n",
    ")"
   ]
  },
  {
   "cell_type": "code",
   "execution_count": 5,
   "metadata": {},
   "outputs": [
    {
     "data": {
      "text/html": [
       "<div><style>\n",
       ".dataframe > thead > tr,\n",
       ".dataframe > tbody > tr {\n",
       "  text-align: right;\n",
       "  white-space: pre-wrap;\n",
       "}\n",
       "</style>\n",
       "<small>shape: (51_574_014, 10)</small><table border=\"1\" class=\"dataframe\"><thead><tr><th>revision</th><th>task</th><th>task_type</th><th>performance</th><th>main_score_name</th><th>language</th><th>task_right</th><th>performance_right</th><th>language_right</th><th>same_language</th></tr><tr><td>cat</td><td>cat</td><td>cat</td><td>f64</td><td>cat</td><td>cat</td><td>cat</td><td>f64</td><td>cat</td><td>bool</td></tr></thead><tbody><tr><td>&quot;cfeb66885b598de483cc04eb08c7d9…</td><td>&quot;ATEC&quot;</td><td>&quot;STS&quot;</td><td>0.540323</td><td>&quot;cosine_spearman&quot;</td><td>&quot;cmn-Hans&quot;</td><td>&quot;AFQMC&quot;</td><td>0.675485</td><td>&quot;cmn-Hans&quot;</td><td>true</td></tr><tr><td>&quot;cfeb66885b598de483cc04eb08c7d9…</td><td>&quot;BIOSSES&quot;</td><td>&quot;STS&quot;</td><td>0.864767</td><td>&quot;cosine_spearman&quot;</td><td>&quot;eng-Latn&quot;</td><td>&quot;AFQMC&quot;</td><td>0.675485</td><td>&quot;cmn-Hans&quot;</td><td>false</td></tr><tr><td>&quot;cfeb66885b598de483cc04eb08c7d9…</td><td>&quot;BQ&quot;</td><td>&quot;STS&quot;</td><td>0.777189</td><td>&quot;cosine_spearman&quot;</td><td>&quot;cmn-Hans&quot;</td><td>&quot;AFQMC&quot;</td><td>0.675485</td><td>&quot;cmn-Hans&quot;</td><td>true</td></tr><tr><td>&quot;cfeb66885b598de483cc04eb08c7d9…</td><td>&quot;LCQMC&quot;</td><td>&quot;STS&quot;</td><td>0.727991</td><td>&quot;cosine_spearman&quot;</td><td>&quot;cmn-Hans&quot;</td><td>&quot;AFQMC&quot;</td><td>0.675485</td><td>&quot;cmn-Hans&quot;</td><td>true</td></tr><tr><td>&quot;cfeb66885b598de483cc04eb08c7d9…</td><td>&quot;PAWSX&quot;</td><td>&quot;STS&quot;</td><td>0.468727</td><td>&quot;cosine_spearman&quot;</td><td>&quot;cmn-Hans&quot;</td><td>&quot;AFQMC&quot;</td><td>0.675485</td><td>&quot;cmn-Hans&quot;</td><td>true</td></tr><tr><td>&hellip;</td><td>&hellip;</td><td>&hellip;</td><td>&hellip;</td><td>&hellip;</td><td>&hellip;</td><td>&hellip;</td><td>&hellip;</td><td>&hellip;</td><td>&hellip;</td></tr><tr><td>&quot;c791d37474fa6a5c72eb3a2522be34…</td><td>&quot;StackExchangeClusteringP2P&quot;</td><td>&quot;Clustering&quot;</td><td>0.47171</td><td>&quot;v_measure&quot;</td><td>&quot;eng-Latn&quot;</td><td>&quot;TwentyNewsgroupsClustering&quot;</td><td>0.571523</td><td>&quot;eng-Latn&quot;</td><td>true</td></tr><tr><td>&quot;c791d37474fa6a5c72eb3a2522be34…</td><td>&quot;SprintDuplicateQuestions&quot;</td><td>&quot;PairClassification&quot;</td><td>0.954388</td><td>&quot;max_ap&quot;</td><td>&quot;eng-Latn&quot;</td><td>&quot;TwitterSemEval2015&quot;</td><td>0.814144</td><td>&quot;eng-Latn&quot;</td><td>true</td></tr><tr><td>&quot;c791d37474fa6a5c72eb3a2522be34…</td><td>&quot;TwitterURLCorpus&quot;</td><td>&quot;PairClassification&quot;</td><td>0.879183</td><td>&quot;max_ap&quot;</td><td>&quot;eng-Latn&quot;</td><td>&quot;TwitterSemEval2015&quot;</td><td>0.814144</td><td>&quot;eng-Latn&quot;</td><td>true</td></tr><tr><td>&quot;c791d37474fa6a5c72eb3a2522be34…</td><td>&quot;SprintDuplicateQuestions&quot;</td><td>&quot;PairClassification&quot;</td><td>0.954388</td><td>&quot;max_ap&quot;</td><td>&quot;eng-Latn&quot;</td><td>&quot;TwitterURLCorpus&quot;</td><td>0.879183</td><td>&quot;eng-Latn&quot;</td><td>true</td></tr><tr><td>&quot;c791d37474fa6a5c72eb3a2522be34…</td><td>&quot;TwitterSemEval2015&quot;</td><td>&quot;PairClassification&quot;</td><td>0.814144</td><td>&quot;max_ap&quot;</td><td>&quot;eng-Latn&quot;</td><td>&quot;TwitterURLCorpus&quot;</td><td>0.879183</td><td>&quot;eng-Latn&quot;</td><td>true</td></tr></tbody></table></div>"
      ],
      "text/plain": [
       "shape: (51_574_014, 10)\n",
       "┌───────────┬───────────┬───────────┬───────────┬───┬───────────┬───────────┬───────────┬──────────┐\n",
       "│ revision  ┆ task      ┆ task_type ┆ performan ┆ … ┆ task_righ ┆ performan ┆ language_ ┆ same_lan │\n",
       "│ ---       ┆ ---       ┆ ---       ┆ ce        ┆   ┆ t         ┆ ce_right  ┆ right     ┆ guage    │\n",
       "│ cat       ┆ cat       ┆ cat       ┆ ---       ┆   ┆ ---       ┆ ---       ┆ ---       ┆ ---      │\n",
       "│           ┆           ┆           ┆ f64       ┆   ┆ cat       ┆ f64       ┆ cat       ┆ bool     │\n",
       "╞═══════════╪═══════════╪═══════════╪═══════════╪═══╪═══════════╪═══════════╪═══════════╪══════════╡\n",
       "│ cfeb66885 ┆ ATEC      ┆ STS       ┆ 0.540323  ┆ … ┆ AFQMC     ┆ 0.675485  ┆ cmn-Hans  ┆ true     │\n",
       "│ b598de483 ┆           ┆           ┆           ┆   ┆           ┆           ┆           ┆          │\n",
       "│ cc04eb08c ┆           ┆           ┆           ┆   ┆           ┆           ┆           ┆          │\n",
       "│ 7d9…      ┆           ┆           ┆           ┆   ┆           ┆           ┆           ┆          │\n",
       "│ cfeb66885 ┆ BIOSSES   ┆ STS       ┆ 0.864767  ┆ … ┆ AFQMC     ┆ 0.675485  ┆ cmn-Hans  ┆ false    │\n",
       "│ b598de483 ┆           ┆           ┆           ┆   ┆           ┆           ┆           ┆          │\n",
       "│ cc04eb08c ┆           ┆           ┆           ┆   ┆           ┆           ┆           ┆          │\n",
       "│ 7d9…      ┆           ┆           ┆           ┆   ┆           ┆           ┆           ┆          │\n",
       "│ cfeb66885 ┆ BQ        ┆ STS       ┆ 0.777189  ┆ … ┆ AFQMC     ┆ 0.675485  ┆ cmn-Hans  ┆ true     │\n",
       "│ b598de483 ┆           ┆           ┆           ┆   ┆           ┆           ┆           ┆          │\n",
       "│ cc04eb08c ┆           ┆           ┆           ┆   ┆           ┆           ┆           ┆          │\n",
       "│ 7d9…      ┆           ┆           ┆           ┆   ┆           ┆           ┆           ┆          │\n",
       "│ cfeb66885 ┆ LCQMC     ┆ STS       ┆ 0.727991  ┆ … ┆ AFQMC     ┆ 0.675485  ┆ cmn-Hans  ┆ true     │\n",
       "│ b598de483 ┆           ┆           ┆           ┆   ┆           ┆           ┆           ┆          │\n",
       "│ cc04eb08c ┆           ┆           ┆           ┆   ┆           ┆           ┆           ┆          │\n",
       "│ 7d9…      ┆           ┆           ┆           ┆   ┆           ┆           ┆           ┆          │\n",
       "│ cfeb66885 ┆ PAWSX     ┆ STS       ┆ 0.468727  ┆ … ┆ AFQMC     ┆ 0.675485  ┆ cmn-Hans  ┆ true     │\n",
       "│ b598de483 ┆           ┆           ┆           ┆   ┆           ┆           ┆           ┆          │\n",
       "│ cc04eb08c ┆           ┆           ┆           ┆   ┆           ┆           ┆           ┆          │\n",
       "│ 7d9…      ┆           ┆           ┆           ┆   ┆           ┆           ┆           ┆          │\n",
       "│ …         ┆ …         ┆ …         ┆ …         ┆ … ┆ …         ┆ …         ┆ …         ┆ …        │\n",
       "│ c791d3747 ┆ StackExch ┆ Clusterin ┆ 0.47171   ┆ … ┆ TwentyNew ┆ 0.571523  ┆ eng-Latn  ┆ true     │\n",
       "│ 4fa6a5c72 ┆ angeClust ┆ g         ┆           ┆   ┆ sgroupsCl ┆           ┆           ┆          │\n",
       "│ eb3a2522b ┆ eringP2P  ┆           ┆           ┆   ┆ ustering  ┆           ┆           ┆          │\n",
       "│ e34…      ┆           ┆           ┆           ┆   ┆           ┆           ┆           ┆          │\n",
       "│ c791d3747 ┆ SprintDup ┆ PairClass ┆ 0.954388  ┆ … ┆ TwitterSe ┆ 0.814144  ┆ eng-Latn  ┆ true     │\n",
       "│ 4fa6a5c72 ┆ licateQue ┆ ification ┆           ┆   ┆ mEval2015 ┆           ┆           ┆          │\n",
       "│ eb3a2522b ┆ stions    ┆           ┆           ┆   ┆           ┆           ┆           ┆          │\n",
       "│ e34…      ┆           ┆           ┆           ┆   ┆           ┆           ┆           ┆          │\n",
       "│ c791d3747 ┆ TwitterUR ┆ PairClass ┆ 0.879183  ┆ … ┆ TwitterSe ┆ 0.814144  ┆ eng-Latn  ┆ true     │\n",
       "│ 4fa6a5c72 ┆ LCorpus   ┆ ification ┆           ┆   ┆ mEval2015 ┆           ┆           ┆          │\n",
       "│ eb3a2522b ┆           ┆           ┆           ┆   ┆           ┆           ┆           ┆          │\n",
       "│ e34…      ┆           ┆           ┆           ┆   ┆           ┆           ┆           ┆          │\n",
       "│ c791d3747 ┆ SprintDup ┆ PairClass ┆ 0.954388  ┆ … ┆ TwitterUR ┆ 0.879183  ┆ eng-Latn  ┆ true     │\n",
       "│ 4fa6a5c72 ┆ licateQue ┆ ification ┆           ┆   ┆ LCorpus   ┆           ┆           ┆          │\n",
       "│ eb3a2522b ┆ stions    ┆           ┆           ┆   ┆           ┆           ┆           ┆          │\n",
       "│ e34…      ┆           ┆           ┆           ┆   ┆           ┆           ┆           ┆          │\n",
       "│ c791d3747 ┆ TwitterSe ┆ PairClass ┆ 0.814144  ┆ … ┆ TwitterUR ┆ 0.879183  ┆ eng-Latn  ┆ true     │\n",
       "│ 4fa6a5c72 ┆ mEval2015 ┆ ification ┆           ┆   ┆ LCorpus   ┆           ┆           ┆          │\n",
       "│ eb3a2522b ┆           ┆           ┆           ┆   ┆           ┆           ┆           ┆          │\n",
       "│ e34…      ┆           ┆           ┆           ┆   ┆           ┆           ┆           ┆          │\n",
       "└───────────┴───────────┴───────────┴───────────┴───┴───────────┴───────────┴───────────┴──────────┘"
      ]
     },
     "execution_count": 5,
     "metadata": {},
     "output_type": "execute_result"
    }
   ],
   "source": [
    "prediction_data"
   ]
  },
  {
   "cell_type": "code",
   "execution_count": 6,
   "metadata": {},
   "outputs": [
    {
     "name": "stderr",
     "output_type": "stream",
     "text": [
      "/var/folders/bd/m7_xt1cd097bwm56ny1027480000gn/T/ipykernel_31155/891103233.py:1: CategoricalRemappingWarning: Local categoricals have different encodings, expensive re-encoding is done to perform this merge operation. Consider using a StringCache or an Enum type if the categories are known in advance\n",
      "  corr_results = prediction_data.join(overlap, on=[\"task\", \"task_right\"]).with_columns((pl.col(\"overlap\") > 0).alias(\"has_overlap\")).group_by(\n"
     ]
    }
   ],
   "source": [
    "corr_results = (\n",
    "    prediction_data.join(overlap, on=[\"task\", \"task_right\"])\n",
    "    .with_columns((pl.col(\"overlap\") > 0).alias(\"has_overlap\"))\n",
    "    .group_by(\"revision\", \"same_language\", \"has_overlap\", \"task_type\")\n",
    "    .agg(\n",
    "        pl.corr(\"performance\", \"performance_right\", method=\"pearson\").alias(\n",
    "            \"correlation\"\n",
    "        )\n",
    "    )\n",
    ")"
   ]
  },
  {
   "cell_type": "code",
   "execution_count": 7,
   "metadata": {},
   "outputs": [
    {
     "data": {
      "image/png": "[encoded data removed]",
      "text/plain": [
       "<Figure size 640x480 with 1 Axes>"
      ]
     },
     "metadata": {},
     "output_type": "display_data"
    }
   ],
   "source": [
    "PLOT_DIR = dirs.get_plot_dir()\n",
    "sns.barplot(data=corr_results, x=\"has_overlap\", y=\"correlation\", hue=\"same_language\")\n",
    "plt.savefig(PLOT_DIR / \"correlation_overlap.png\", bbox_inches=\"tight\")"
   ]
  },
  {
   "cell_type": "code",
   "execution_count": null,
   "metadata": {},
   "outputs": [],
   "source": []
  }
 ],
 "metadata": {
  "kernelspec": {
   "display_name": ".venv",
   "language": "python",
   "name": "python3"
  },
  "language_info": {
   "codemirror_mode": {
    "name": "ipython",
    "version": 3
   },
   "file_extension": ".py",
   "mimetype": "text/x-python",
   "name": "python",
   "nbconvert_exporter": "python",
   "pygments_lexer": "ipython3",
   "version": "3.12.6"
  }
 },
 "nbformat": 4,
 "nbformat_minor": 2
}
